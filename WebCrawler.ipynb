{
 "cells": [
  {
   "cell_type": "code",
   "execution_count": 1,
   "metadata": {},
   "outputs": [
    {
     "name": "stdout",
     "output_type": "stream",
     "text": [
      "Collecting beautifulsoup4==4.8.2 (from -r requirements.txt (line 1))\n",
      "\u001b[?25l  Downloading https://files.pythonhosted.org/packages/cb/a1/c698cf319e9cfed6b17376281bd0efc6bfc8465698f54170ef60a485ab5d/beautifulsoup4-4.8.2-py3-none-any.whl (106kB)\n",
      "\u001b[K    100% |████████████████████████████████| 112kB 1.3MB/s ta 0:00:01\n",
      "\u001b[?25hCollecting requests==2.22.0 (from -r requirements.txt (line 2))\n",
      "\u001b[?25l  Downloading https://files.pythonhosted.org/packages/51/bd/23c926cd341ea6b7dd0b2a00aba99ae0f828be89d72b2190f27c11d4b7fb/requests-2.22.0-py2.py3-none-any.whl (57kB)\n",
      "\u001b[K    100% |████████████████████████████████| 61kB 3.8MB/s ta 0:00:01\n",
      "\u001b[?25hCollecting tqdm==4.42.1 (from -r requirements.txt (line 3))\n",
      "\u001b[?25l  Downloading https://files.pythonhosted.org/packages/cd/80/5bb262050dd2f30f8819626b7c92339708fe2ed7bd5554c8193b4487b367/tqdm-4.42.1-py2.py3-none-any.whl (59kB)\n",
      "\u001b[K    100% |████████████████████████████████| 61kB 3.9MB/s ta 0:00:011\n",
      "\u001b[?25hCollecting soupsieve>=1.2 (from beautifulsoup4==4.8.2->-r requirements.txt (line 1))\n",
      "  Downloading https://files.pythonhosted.org/packages/41/e7/3617a4b988ed7744743fb0dbba5aa0a6e3f95a9557b43f8c4740d296b48a/soupsieve-2.2-py3-none-any.whl\n",
      "Requirement already satisfied: urllib3!=1.25.0,!=1.25.1,<1.26,>=1.21.1 in /anaconda3/lib/python3.6/site-packages (from requests==2.22.0->-r requirements.txt (line 2)) (1.22)\n",
      "Requirement already satisfied: idna<2.9,>=2.5 in /anaconda3/lib/python3.6/site-packages (from requests==2.22.0->-r requirements.txt (line 2)) (2.6)\n",
      "Requirement already satisfied: chardet<3.1.0,>=3.0.2 in /anaconda3/lib/python3.6/site-packages (from requests==2.22.0->-r requirements.txt (line 2)) (3.0.4)\n",
      "Requirement already satisfied: certifi>=2017.4.17 in /anaconda3/lib/python3.6/site-packages (from requests==2.22.0->-r requirements.txt (line 2)) (2018.4.16)\n",
      "Installing collected packages: soupsieve, beautifulsoup4, requests, tqdm\n",
      "  Found existing installation: beautifulsoup4 4.6.0\n",
      "    Uninstalling beautifulsoup4-4.6.0:\n",
      "      Successfully uninstalled beautifulsoup4-4.6.0\n",
      "  Found existing installation: requests 2.18.4\n",
      "    Uninstalling requests-2.18.4:\n",
      "      Successfully uninstalled requests-2.18.4\n",
      "  Found existing installation: tqdm 4.36.1\n",
      "    Uninstalling tqdm-4.36.1:\n",
      "      Successfully uninstalled tqdm-4.36.1\n",
      "Successfully installed beautifulsoup4-4.8.2 requests-2.22.0 soupsieve-2.2 tqdm-4.42.1\n",
      "\u001b[33mYou are using pip version 19.0.3, however version 21.0.1 is available.\n",
      "You should consider upgrading via the 'pip install --upgrade pip' command.\u001b[0m\n"
     ]
    }
   ],
   "source": [
    "!pip install -r requirements.txt"
   ]
  },
  {
   "cell_type": "code",
   "execution_count": 26,
   "metadata": {},
   "outputs": [],
   "source": [
    "from bs4 import BeautifulSoup\n",
    "import requests\n",
    "from pathlib import Path\n",
    "import math\n",
    "from tqdm.notebook import tqdm\n",
    "Path(\"video\").mkdir(parents=True, exist_ok=True)\n",
    "def get_and_download_video(link_list):\n",
    "    \n",
    "    dir_name='./video/'\n",
    "    for link in tqdm(link_list, leave=False):\n",
    "        href = link['href'].split('/')[-1].split('-')[1:]\n",
    "        id = href[0]\n",
    "        description = '-'.join(href[1:])\n",
    "        video_link = \"https://ak.picdn.net/shutterstock/videos/\"+id+\"/preview/\"+description+\".mp4\"\n",
    "        r = requests.get(video_link)\n",
    "\n",
    "        if r.ok :\n",
    "            open(dir_name+description+'-'+ id +'.mp4', 'wb').write(r.content)\n",
    "        else:\n",
    "            print(link)"
   ]
  },
  {
   "cell_type": "code",
   "execution_count": 27,
   "metadata": {},
   "outputs": [
    {
     "name": "stdout",
     "output_type": "stream",
     "text": [
      "14\n"
     ]
    }
   ],
   "source": [
    "url = \"https://www.shutterstock.com/zh-Hant/video/search/person-Watering-Plants-hose\"\n",
    "r = requests.get(url, headers={\"User-Agent\": \"XY\"})\n",
    "htmltext = r.text\n",
    "soup = BeautifulSoup(htmltext, 'html.parser')\n",
    "num_video_ele = soup.select_one('[data-automation=\"SearchResultsTopNav_numOfResults\"]')\n",
    "num_video = int(num_video_ele.text.split(' 部')[0].replace(',',''))\n",
    "pages = math.ceil(num_video/100)\n",
    "\n",
    "print(pages)"
   ]
  },
  {
   "cell_type": "code",
   "execution_count": 28,
   "metadata": {},
   "outputs": [
    {
     "data": {
      "application/vnd.jupyter.widget-view+json": {
       "model_id": "e079a647cf8a4223b05888836c9dede6",
       "version_major": 2,
       "version_minor": 0
      },
      "text/plain": [
       "HBox(children=(FloatProgress(value=0.0, max=14.0), HTML(value='')))"
      ]
     },
     "metadata": {},
     "output_type": "display_data"
    },
    {
     "data": {
      "application/vnd.jupyter.widget-view+json": {
       "model_id": "",
       "version_major": 2,
       "version_minor": 0
      },
      "text/plain": [
       "HBox(children=(FloatProgress(value=0.0), HTML(value='')))"
      ]
     },
     "metadata": {},
     "output_type": "display_data"
    }
   ],
   "source": [
    "for page in tqdm(range(1, pages+1)):\n",
    "    url = \"https://www.shutterstock.com/zh-Hant/video/search/person-Watering-Plants-hose?page=\"+str(page)\n",
    "    r = requests.get(url, headers={\"User-Agent\": \"XY\"})\n",
    "    htmltext = r.text\n",
    "    soup = BeautifulSoup(htmltext, 'html.parser')\n",
    "    link_list = soup.select('[data-automation=\"VideoHoverPreview_navlink\"]')\n",
    "    get_and_download_video(link_list)"
   ]
  },
  {
   "cell_type": "code",
   "execution_count": null,
   "metadata": {},
   "outputs": [],
   "source": []
  }
 ],
 "metadata": {
  "kernelspec": {
   "display_name": "Python 3",
   "language": "python",
   "name": "python3"
  },
  "language_info": {
   "codemirror_mode": {
    "name": "ipython",
    "version": 3
   },
   "file_extension": ".py",
   "mimetype": "text/x-python",
   "name": "python",
   "nbconvert_exporter": "python",
   "pygments_lexer": "ipython3",
   "version": "3.6.5"
  }
 },
 "nbformat": 4,
 "nbformat_minor": 4
}
